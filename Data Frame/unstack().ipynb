{
 "cells": [
  {
   "cell_type": "code",
   "execution_count": 1,
   "id": "17c2ef01",
   "metadata": {},
   "outputs": [],
   "source": [
    "#Menata ulang Data Frame dengan multiple indexes menggunakan unstack"
   ]
  },
  {
   "cell_type": "code",
   "execution_count": 2,
   "id": "971bcc62",
   "metadata": {},
   "outputs": [
    {
     "ename": "ModuleNotFoundError",
     "evalue": "No module named 'pandas'",
     "output_type": "error",
     "traceback": [
      "\u001b[1;31m---------------------------------------------------------------------------\u001b[0m",
      "\u001b[1;31mModuleNotFoundError\u001b[0m                       Traceback (most recent call last)",
      "Input \u001b[1;32mIn [2]\u001b[0m, in \u001b[0;36m<cell line: 1>\u001b[1;34m()\u001b[0m\n\u001b[1;32m----> 1\u001b[0m \u001b[38;5;28;01mimport\u001b[39;00m \u001b[38;5;21;01mpandas\u001b[39;00m \u001b[38;5;28;01mas\u001b[39;00m \u001b[38;5;21;01mpd\u001b[39;00m\u001b[38;5;241m,\u001b[39m \u001b[38;5;21;01mnumpy\u001b[39;00m \u001b[38;5;28;01mas\u001b[39;00m \u001b[38;5;21;01mnp\u001b[39;00m\n",
      "\u001b[1;31mModuleNotFoundError\u001b[0m: No module named 'pandas'"
     ]
    }
   ],
   "source": [
    "import pandas as pd, numpy as np"
   ]
  },
  {
   "cell_type": "code",
   "execution_count": null,
   "id": "825bede2",
   "metadata": {},
   "outputs": [],
   "source": [
    "#load data frame dengan function .read\n",
    "df = pd.read_csv('./Data/titanicfull.csv')\n",
    "\n",
    "df.head()"
   ]
  },
  {
   "cell_type": "code",
   "execution_count": null,
   "id": "ad366536",
   "metadata": {},
   "outputs": [],
   "source": [
    "#data frame dengan multiple indexes dari hasil grouping"
   ]
  },
  {
   "cell_type": "code",
   "execution_count": null,
   "id": "ebb38ad0",
   "metadata": {},
   "outputs": [],
   "source": [
    "#mengelompokan berdasrkan pclass dan sex"
   ]
  },
  {
   "cell_type": "code",
   "execution_count": null,
   "id": "81adce36",
   "metadata": {},
   "outputs": [],
   "source": [
    "df.groupby(['sex', 'pclass'])['survived'].mean().to_frame()\n",
    "\n",
    "#to_frame mempercantik tampilan\n",
    "#dalam bentuk frame"
   ]
  },
  {
   "cell_type": "code",
   "execution_count": null,
   "id": "358f7760",
   "metadata": {},
   "outputs": [],
   "source": [
    "#menata ulang data frame dengan mutiple index"
   ]
  },
  {
   "cell_type": "code",
   "execution_count": null,
   "id": "156ded6b",
   "metadata": {},
   "outputs": [],
   "source": [
    "df.groupby(['sex', 'pclass'])['survived'].mean().unstack()"
   ]
  },
  {
   "cell_type": "code",
   "execution_count": null,
   "id": "3fdd0d07",
   "metadata": {},
   "outputs": [],
   "source": []
  }
 ],
 "metadata": {
  "kernelspec": {
   "display_name": "Python 3 (ipykernel)",
   "language": "python",
   "name": "python3"
  },
  "language_info": {
   "codemirror_mode": {
    "name": "ipython",
    "version": 3
   },
   "file_extension": ".py",
   "mimetype": "text/x-python",
   "name": "python",
   "nbconvert_exporter": "python",
   "pygments_lexer": "ipython3",
   "version": "3.8.8"
  }
 },
 "nbformat": 4,
 "nbformat_minor": 5
}
