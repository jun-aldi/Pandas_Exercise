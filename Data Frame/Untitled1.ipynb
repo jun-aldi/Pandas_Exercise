{
 "cells": [
  {
   "cell_type": "code",
   "execution_count": null,
   "id": "572d3453",
   "metadata": {},
   "outputs": [],
   "source": [
    "#Menggabungkan dua Data Frame secara berdampingan"
   ]
  },
  {
   "cell_type": "code",
   "execution_count": null,
   "id": "3f48f5cd",
   "metadata": {},
   "outputs": [],
   "source": [
    "import pandas as pd, numpy as np"
   ]
  },
  {
   "cell_type": "code",
   "execution_count": null,
   "id": "a10f95a6",
   "metadata": {},
   "outputs": [],
   "source": [
    "d1 = {'col1':[10, 20, 30]}"
   ]
  }
 ],
 "metadata": {
  "kernelspec": {
   "display_name": "Python 3",
   "language": "python",
   "name": "python3"
  },
  "language_info": {
   "codemirror_mode": {
    "name": "ipython",
    "version": 3
   },
   "file_extension": ".py",
   "mimetype": "text/x-python",
   "name": "python",
   "nbconvert_exporter": "python",
   "pygments_lexer": "ipython3",
   "version": "3.8.8"
  }
 },
 "nbformat": 4,
 "nbformat_minor": 5
}
