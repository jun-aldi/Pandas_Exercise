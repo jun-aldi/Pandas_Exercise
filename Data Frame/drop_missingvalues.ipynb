{
 "cells": [
  {
   "cell_type": "code",
   "execution_count": 45,
   "id": "06c066d3",
   "metadata": {},
   "outputs": [],
   "source": [
    "#Menghapus (drop) missing values di Data Frame (NaN)"
   ]
  },
  {
   "cell_type": "code",
   "execution_count": 46,
   "id": "05103943",
   "metadata": {},
   "outputs": [],
   "source": [
    "import pandas as pd, numpy as np"
   ]
  },
  {
   "cell_type": "code",
   "execution_count": 47,
   "id": "3b2a3903",
   "metadata": {},
   "outputs": [
    {
     "data": {
      "text/html": [
       "<div>\n",
       "<style scoped>\n",
       "    .dataframe tbody tr th:only-of-type {\n",
       "        vertical-align: middle;\n",
       "    }\n",
       "\n",
       "    .dataframe tbody tr th {\n",
       "        vertical-align: top;\n",
       "    }\n",
       "\n",
       "    .dataframe thead th {\n",
       "        text-align: right;\n",
       "    }\n",
       "</style>\n",
       "<table border=\"1\" class=\"dataframe\">\n",
       "  <thead>\n",
       "    <tr style=\"text-align: right;\">\n",
       "      <th></th>\n",
       "      <th>index</th>\n",
       "      <th>A</th>\n",
       "      <th>B</th>\n",
       "      <th>C</th>\n",
       "      <th>D</th>\n",
       "    </tr>\n",
       "  </thead>\n",
       "  <tbody>\n",
       "    <tr>\n",
       "      <th>0</th>\n",
       "      <td>J8PUk6TZFI</td>\n",
       "      <td>0.468375</td>\n",
       "      <td>-0.448732</td>\n",
       "      <td>0.679122</td>\n",
       "      <td>0.618571</td>\n",
       "    </tr>\n",
       "    <tr>\n",
       "      <th>1</th>\n",
       "      <td>zeJE7ymMls</td>\n",
       "      <td>-0.103525</td>\n",
       "      <td>0.373896</td>\n",
       "      <td>-0.363810</td>\n",
       "      <td>-0.866241</td>\n",
       "    </tr>\n",
       "    <tr>\n",
       "      <th>2</th>\n",
       "      <td>T7ED84nnvH</td>\n",
       "      <td>NaN</td>\n",
       "      <td>0.225937</td>\n",
       "      <td>-0.154646</td>\n",
       "      <td>0.206857</td>\n",
       "    </tr>\n",
       "    <tr>\n",
       "      <th>3</th>\n",
       "      <td>k5FYhAqV2r</td>\n",
       "      <td>-0.519594</td>\n",
       "      <td>-0.524530</td>\n",
       "      <td>-0.772341</td>\n",
       "      <td>-0.206724</td>\n",
       "    </tr>\n",
       "    <tr>\n",
       "      <th>4</th>\n",
       "      <td>Cy74T0sNGu</td>\n",
       "      <td>0.780634</td>\n",
       "      <td>1.520168</td>\n",
       "      <td>0.736311</td>\n",
       "      <td>1.160042</td>\n",
       "    </tr>\n",
       "  </tbody>\n",
       "</table>\n",
       "</div>"
      ],
      "text/plain": [
       "        index         A         B         C         D\n",
       "0  J8PUk6TZFI  0.468375 -0.448732  0.679122  0.618571\n",
       "1  zeJE7ymMls -0.103525  0.373896 -0.363810 -0.866241\n",
       "2  T7ED84nnvH       NaN  0.225937 -0.154646  0.206857\n",
       "3  k5FYhAqV2r -0.519594 -0.524530 -0.772341 -0.206724\n",
       "4  Cy74T0sNGu  0.780634  1.520168  0.736311  1.160042"
      ]
     },
     "execution_count": 47,
     "metadata": {},
     "output_type": "execute_result"
    }
   ],
   "source": [
    "df = pd.util.testing.makeMissingDataframe().reset_index()\n",
    "df.head()"
   ]
  },
  {
   "cell_type": "code",
   "execution_count": 48,
   "id": "a19b286e",
   "metadata": {},
   "outputs": [
    {
     "data": {
      "text/html": [
       "<div>\n",
       "<style scoped>\n",
       "    .dataframe tbody tr th:only-of-type {\n",
       "        vertical-align: middle;\n",
       "    }\n",
       "\n",
       "    .dataframe tbody tr th {\n",
       "        vertical-align: top;\n",
       "    }\n",
       "\n",
       "    .dataframe thead th {\n",
       "        text-align: right;\n",
       "    }\n",
       "</style>\n",
       "<table border=\"1\" class=\"dataframe\">\n",
       "  <thead>\n",
       "    <tr style=\"text-align: right;\">\n",
       "      <th></th>\n",
       "      <th>Z</th>\n",
       "      <th>A</th>\n",
       "      <th>B</th>\n",
       "      <th>C</th>\n",
       "      <th>D</th>\n",
       "    </tr>\n",
       "  </thead>\n",
       "  <tbody>\n",
       "    <tr>\n",
       "      <th>0</th>\n",
       "      <td>J8PUk6TZFI</td>\n",
       "      <td>0.468375</td>\n",
       "      <td>-0.448732</td>\n",
       "      <td>0.679122</td>\n",
       "      <td>0.618571</td>\n",
       "    </tr>\n",
       "    <tr>\n",
       "      <th>1</th>\n",
       "      <td>zeJE7ymMls</td>\n",
       "      <td>-0.103525</td>\n",
       "      <td>0.373896</td>\n",
       "      <td>-0.363810</td>\n",
       "      <td>-0.866241</td>\n",
       "    </tr>\n",
       "    <tr>\n",
       "      <th>2</th>\n",
       "      <td>T7ED84nnvH</td>\n",
       "      <td>NaN</td>\n",
       "      <td>0.225937</td>\n",
       "      <td>-0.154646</td>\n",
       "      <td>0.206857</td>\n",
       "    </tr>\n",
       "    <tr>\n",
       "      <th>3</th>\n",
       "      <td>k5FYhAqV2r</td>\n",
       "      <td>-0.519594</td>\n",
       "      <td>-0.524530</td>\n",
       "      <td>-0.772341</td>\n",
       "      <td>-0.206724</td>\n",
       "    </tr>\n",
       "    <tr>\n",
       "      <th>4</th>\n",
       "      <td>Cy74T0sNGu</td>\n",
       "      <td>0.780634</td>\n",
       "      <td>1.520168</td>\n",
       "      <td>0.736311</td>\n",
       "      <td>1.160042</td>\n",
       "    </tr>\n",
       "  </tbody>\n",
       "</table>\n",
       "</div>"
      ],
      "text/plain": [
       "            Z         A         B         C         D\n",
       "0  J8PUk6TZFI  0.468375 -0.448732  0.679122  0.618571\n",
       "1  zeJE7ymMls -0.103525  0.373896 -0.363810 -0.866241\n",
       "2  T7ED84nnvH       NaN  0.225937 -0.154646  0.206857\n",
       "3  k5FYhAqV2r -0.519594 -0.524530 -0.772341 -0.206724\n",
       "4  Cy74T0sNGu  0.780634  1.520168  0.736311  1.160042"
      ]
     },
     "execution_count": 48,
     "metadata": {},
     "output_type": "execute_result"
    }
   ],
   "source": [
    "df = df.rename(columns={'index':'Z'})\n",
    "df.head()"
   ]
  },
  {
   "cell_type": "code",
   "execution_count": 49,
   "id": "bc1d02c4",
   "metadata": {},
   "outputs": [],
   "source": [
    "df_backup = df.copy(deep=True)"
   ]
  },
  {
   "cell_type": "code",
   "execution_count": 50,
   "id": "0596065a",
   "metadata": {},
   "outputs": [],
   "source": [
    "#Menghapus (drop) setiap kolom yang mengandung missing values di Data Frame (NaN)"
   ]
  },
  {
   "cell_type": "code",
   "execution_count": 51,
   "id": "9ed1d719",
   "metadata": {},
   "outputs": [
    {
     "data": {
      "text/html": [
       "<div>\n",
       "<style scoped>\n",
       "    .dataframe tbody tr th:only-of-type {\n",
       "        vertical-align: middle;\n",
       "    }\n",
       "\n",
       "    .dataframe tbody tr th {\n",
       "        vertical-align: top;\n",
       "    }\n",
       "\n",
       "    .dataframe thead th {\n",
       "        text-align: right;\n",
       "    }\n",
       "</style>\n",
       "<table border=\"1\" class=\"dataframe\">\n",
       "  <thead>\n",
       "    <tr style=\"text-align: right;\">\n",
       "      <th></th>\n",
       "      <th>Z</th>\n",
       "    </tr>\n",
       "  </thead>\n",
       "  <tbody>\n",
       "    <tr>\n",
       "      <th>0</th>\n",
       "      <td>J8PUk6TZFI</td>\n",
       "    </tr>\n",
       "    <tr>\n",
       "      <th>1</th>\n",
       "      <td>zeJE7ymMls</td>\n",
       "    </tr>\n",
       "    <tr>\n",
       "      <th>2</th>\n",
       "      <td>T7ED84nnvH</td>\n",
       "    </tr>\n",
       "    <tr>\n",
       "      <th>3</th>\n",
       "      <td>k5FYhAqV2r</td>\n",
       "    </tr>\n",
       "    <tr>\n",
       "      <th>4</th>\n",
       "      <td>Cy74T0sNGu</td>\n",
       "    </tr>\n",
       "  </tbody>\n",
       "</table>\n",
       "</div>"
      ],
      "text/plain": [
       "            Z\n",
       "0  J8PUk6TZFI\n",
       "1  zeJE7ymMls\n",
       "2  T7ED84nnvH\n",
       "3  k5FYhAqV2r\n",
       "4  Cy74T0sNGu"
      ]
     },
     "execution_count": 51,
     "metadata": {},
     "output_type": "execute_result"
    }
   ],
   "source": [
    "df = df.dropna(axis='columns')\n",
    "df.head()"
   ]
  },
  {
   "cell_type": "code",
   "execution_count": null,
   "id": "11b0d991",
   "metadata": {},
   "outputs": [],
   "source": [
    "#Menghapus (drop) setiap baris yang mengandung missing values di Data Frame (NaN)"
   ]
  },
  {
   "cell_type": "code",
   "execution_count": 54,
   "id": "61a27518",
   "metadata": {},
   "outputs": [
    {
     "data": {
      "text/html": [
       "<div>\n",
       "<style scoped>\n",
       "    .dataframe tbody tr th:only-of-type {\n",
       "        vertical-align: middle;\n",
       "    }\n",
       "\n",
       "    .dataframe tbody tr th {\n",
       "        vertical-align: top;\n",
       "    }\n",
       "\n",
       "    .dataframe thead th {\n",
       "        text-align: right;\n",
       "    }\n",
       "</style>\n",
       "<table border=\"1\" class=\"dataframe\">\n",
       "  <thead>\n",
       "    <tr style=\"text-align: right;\">\n",
       "      <th></th>\n",
       "      <th>Z</th>\n",
       "      <th>A</th>\n",
       "      <th>B</th>\n",
       "      <th>C</th>\n",
       "      <th>D</th>\n",
       "    </tr>\n",
       "  </thead>\n",
       "  <tbody>\n",
       "    <tr>\n",
       "      <th>0</th>\n",
       "      <td>J8PUk6TZFI</td>\n",
       "      <td>0.468375</td>\n",
       "      <td>-0.448732</td>\n",
       "      <td>0.679122</td>\n",
       "      <td>0.618571</td>\n",
       "    </tr>\n",
       "    <tr>\n",
       "      <th>1</th>\n",
       "      <td>zeJE7ymMls</td>\n",
       "      <td>-0.103525</td>\n",
       "      <td>0.373896</td>\n",
       "      <td>-0.363810</td>\n",
       "      <td>-0.866241</td>\n",
       "    </tr>\n",
       "    <tr>\n",
       "      <th>3</th>\n",
       "      <td>k5FYhAqV2r</td>\n",
       "      <td>-0.519594</td>\n",
       "      <td>-0.524530</td>\n",
       "      <td>-0.772341</td>\n",
       "      <td>-0.206724</td>\n",
       "    </tr>\n",
       "    <tr>\n",
       "      <th>4</th>\n",
       "      <td>Cy74T0sNGu</td>\n",
       "      <td>0.780634</td>\n",
       "      <td>1.520168</td>\n",
       "      <td>0.736311</td>\n",
       "      <td>1.160042</td>\n",
       "    </tr>\n",
       "    <tr>\n",
       "      <th>6</th>\n",
       "      <td>cIJfzl2QeZ</td>\n",
       "      <td>-0.685147</td>\n",
       "      <td>0.558049</td>\n",
       "      <td>-1.227193</td>\n",
       "      <td>-0.977973</td>\n",
       "    </tr>\n",
       "  </tbody>\n",
       "</table>\n",
       "</div>"
      ],
      "text/plain": [
       "            Z         A         B         C         D\n",
       "0  J8PUk6TZFI  0.468375 -0.448732  0.679122  0.618571\n",
       "1  zeJE7ymMls -0.103525  0.373896 -0.363810 -0.866241\n",
       "3  k5FYhAqV2r -0.519594 -0.524530 -0.772341 -0.206724\n",
       "4  Cy74T0sNGu  0.780634  1.520168  0.736311  1.160042\n",
       "6  cIJfzl2QeZ -0.685147  0.558049 -1.227193 -0.977973"
      ]
     },
     "execution_count": 54,
     "metadata": {},
     "output_type": "execute_result"
    }
   ],
   "source": [
    "df = df_backup.copy(deep=True)\n",
    "df = df.dropna(axis='rows')\n",
    "df.head()"
   ]
  },
  {
   "cell_type": "code",
   "execution_count": null,
   "id": "0411a12d",
   "metadata": {},
   "outputs": [],
   "source": [
    "#presentase missing values setiap kolom"
   ]
  },
  {
   "cell_type": "code",
   "execution_count": 56,
   "id": "03a9e39a",
   "metadata": {},
   "outputs": [
    {
     "data": {
      "text/plain": [
       "Z    0.000000\n",
       "A    0.233333\n",
       "B    0.066667\n",
       "C    0.066667\n",
       "D    0.033333\n",
       "dtype: float64"
      ]
     },
     "execution_count": 56,
     "metadata": {},
     "output_type": "execute_result"
    }
   ],
   "source": [
    "df = df_backup.copy(deep=True)\n",
    "df.isna().mean()\n",
    "\n",
    "#isna akan mengumpulkan missing values tiap values\n",
    "#.mean akan menghitung rata-rata atau presentasi missing values"
   ]
  },
  {
   "cell_type": "code",
   "execution_count": null,
   "id": "b17fe03f",
   "metadata": {},
   "outputs": [],
   "source": [
    "#menhapus setiap kolom yg mengandung m8issing values dengan treshold\n",
    "#treshold = ambang batas\n"
   ]
  },
  {
   "cell_type": "code",
   "execution_count": null,
   "id": "1e72e14a",
   "metadata": {},
   "outputs": [],
   "source": [
    "treshold = len(df) * 0.9\n",
    "#ambang batas = 90 %\n",
    "#len(df) = mencarai tahu jumlah row\n",
    "#kita ingin 90% Nan\n",
    "\n",
    "df = df.dropna(tresh = tresh)\n"
   ]
  }
 ],
 "metadata": {
  "kernelspec": {
   "display_name": "Python 3",
   "language": "python",
   "name": "python3"
  },
  "language_info": {
   "codemirror_mode": {
    "name": "ipython",
    "version": 3
   },
   "file_extension": ".py",
   "mimetype": "text/x-python",
   "name": "python",
   "nbconvert_exporter": "python",
   "pygments_lexer": "ipython3",
   "version": "3.8.8"
  }
 },
 "nbformat": 4,
 "nbformat_minor": 5
}
