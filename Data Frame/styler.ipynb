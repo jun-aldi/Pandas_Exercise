{
 "cells": [
  {
   "cell_type": "code",
   "execution_count": 17,
   "id": "af60db7a",
   "metadata": {},
   "outputs": [],
   "source": [
    "#Formatting tampilan Data Frame"
   ]
  },
  {
   "cell_type": "code",
   "execution_count": 18,
   "id": "2772b5b6",
   "metadata": {},
   "outputs": [],
   "source": [
    "import pandas as pd, numpy as np"
   ]
  },
  {
   "cell_type": "code",
   "execution_count": 19,
   "id": "914eab15",
   "metadata": {},
   "outputs": [
    {
     "data": {
      "text/html": [
       "<div>\n",
       "<style scoped>\n",
       "    .dataframe tbody tr th:only-of-type {\n",
       "        vertical-align: middle;\n",
       "    }\n",
       "\n",
       "    .dataframe tbody tr th {\n",
       "        vertical-align: top;\n",
       "    }\n",
       "\n",
       "    .dataframe thead th {\n",
       "        text-align: right;\n",
       "    }\n",
       "</style>\n",
       "<table border=\"1\" class=\"dataframe\">\n",
       "  <thead>\n",
       "    <tr style=\"text-align: right;\">\n",
       "      <th></th>\n",
       "      <th>omset</th>\n",
       "      <th>penjualan</th>\n",
       "    </tr>\n",
       "  </thead>\n",
       "  <tbody>\n",
       "    <tr>\n",
       "      <th>0</th>\n",
       "      <td>4</td>\n",
       "      <td>5</td>\n",
       "    </tr>\n",
       "    <tr>\n",
       "      <th>1</th>\n",
       "      <td>12</td>\n",
       "      <td>12</td>\n",
       "    </tr>\n",
       "    <tr>\n",
       "      <th>2</th>\n",
       "      <td>14</td>\n",
       "      <td>8</td>\n",
       "    </tr>\n",
       "    <tr>\n",
       "      <th>3</th>\n",
       "      <td>10</td>\n",
       "      <td>11</td>\n",
       "    </tr>\n",
       "    <tr>\n",
       "      <th>4</th>\n",
       "      <td>17</td>\n",
       "      <td>6</td>\n",
       "    </tr>\n",
       "  </tbody>\n",
       "</table>\n",
       "</div>"
      ],
      "text/plain": [
       "   omset  penjualan\n",
       "0      4          5\n",
       "1     12         12\n",
       "2     14          8\n",
       "3     10         11\n",
       "4     17          6"
      ]
     },
     "execution_count": 19,
     "metadata": {},
     "output_type": "execute_result"
    }
   ],
   "source": [
    "n_rows = 5\n",
    "n_cols = 2\n",
    "cols = ['omset', 'penjualan']\n",
    "\n",
    "df = pd.DataFrame(np.random.randint(1, 20, size=(n_rows, n_cols)),\n",
    "                 columns=cols)\n",
    "df"
   ]
  },
  {
   "cell_type": "code",
   "execution_count": 20,
   "id": "604a05e2",
   "metadata": {},
   "outputs": [
    {
     "data": {
      "text/html": [
       "<div>\n",
       "<style scoped>\n",
       "    .dataframe tbody tr th:only-of-type {\n",
       "        vertical-align: middle;\n",
       "    }\n",
       "\n",
       "    .dataframe tbody tr th {\n",
       "        vertical-align: top;\n",
       "    }\n",
       "\n",
       "    .dataframe thead th {\n",
       "        text-align: right;\n",
       "    }\n",
       "</style>\n",
       "<table border=\"1\" class=\"dataframe\">\n",
       "  <thead>\n",
       "    <tr style=\"text-align: right;\">\n",
       "      <th></th>\n",
       "      <th>omset</th>\n",
       "      <th>penjualan</th>\n",
       "    </tr>\n",
       "  </thead>\n",
       "  <tbody>\n",
       "    <tr>\n",
       "      <th>0</th>\n",
       "      <td>400000</td>\n",
       "      <td>50000</td>\n",
       "    </tr>\n",
       "    <tr>\n",
       "      <th>1</th>\n",
       "      <td>1200000</td>\n",
       "      <td>120000</td>\n",
       "    </tr>\n",
       "    <tr>\n",
       "      <th>2</th>\n",
       "      <td>1400000</td>\n",
       "      <td>80000</td>\n",
       "    </tr>\n",
       "    <tr>\n",
       "      <th>3</th>\n",
       "      <td>1000000</td>\n",
       "      <td>110000</td>\n",
       "    </tr>\n",
       "    <tr>\n",
       "      <th>4</th>\n",
       "      <td>1700000</td>\n",
       "      <td>60000</td>\n",
       "    </tr>\n",
       "  </tbody>\n",
       "</table>\n",
       "</div>"
      ],
      "text/plain": [
       "     omset  penjualan\n",
       "0   400000      50000\n",
       "1  1200000     120000\n",
       "2  1400000      80000\n",
       "3  1000000     110000\n",
       "4  1700000      60000"
      ]
     },
     "execution_count": 20,
     "metadata": {},
     "output_type": "execute_result"
    }
   ],
   "source": [
    "\n",
    "\n",
    "df['omset'] = df['omset'] * 100_000\n",
    "df['penjualan'] = df['penjualan'] * 10_000\n",
    "df"
   ]
  },
  {
   "cell_type": "code",
   "execution_count": 21,
   "id": "effd5fbf",
   "metadata": {},
   "outputs": [
    {
     "data": {
      "text/html": [
       "<div>\n",
       "<style scoped>\n",
       "    .dataframe tbody tr th:only-of-type {\n",
       "        vertical-align: middle;\n",
       "    }\n",
       "\n",
       "    .dataframe tbody tr th {\n",
       "        vertical-align: top;\n",
       "    }\n",
       "\n",
       "    .dataframe thead th {\n",
       "        text-align: right;\n",
       "    }\n",
       "</style>\n",
       "<table border=\"1\" class=\"dataframe\">\n",
       "  <thead>\n",
       "    <tr style=\"text-align: right;\">\n",
       "      <th></th>\n",
       "      <th>tanggal</th>\n",
       "      <th>omset</th>\n",
       "      <th>penjualan</th>\n",
       "    </tr>\n",
       "  </thead>\n",
       "  <tbody>\n",
       "    <tr>\n",
       "      <th>0</th>\n",
       "      <td>2000-01-01</td>\n",
       "      <td>400000</td>\n",
       "      <td>50000</td>\n",
       "    </tr>\n",
       "    <tr>\n",
       "      <th>1</th>\n",
       "      <td>2000-01-02</td>\n",
       "      <td>1200000</td>\n",
       "      <td>120000</td>\n",
       "    </tr>\n",
       "    <tr>\n",
       "      <th>2</th>\n",
       "      <td>2000-01-03</td>\n",
       "      <td>1400000</td>\n",
       "      <td>80000</td>\n",
       "    </tr>\n",
       "    <tr>\n",
       "      <th>3</th>\n",
       "      <td>2000-01-04</td>\n",
       "      <td>1000000</td>\n",
       "      <td>110000</td>\n",
       "    </tr>\n",
       "    <tr>\n",
       "      <th>4</th>\n",
       "      <td>2000-01-05</td>\n",
       "      <td>1700000</td>\n",
       "      <td>60000</td>\n",
       "    </tr>\n",
       "  </tbody>\n",
       "</table>\n",
       "</div>"
      ],
      "text/plain": [
       "     tanggal    omset  penjualan\n",
       "0 2000-01-01   400000      50000\n",
       "1 2000-01-02  1200000     120000\n",
       "2 2000-01-03  1400000      80000\n",
       "3 2000-01-04  1000000     110000\n",
       "4 2000-01-05  1700000      60000"
      ]
     },
     "execution_count": 21,
     "metadata": {},
     "output_type": "execute_result"
    }
   ],
   "source": [
    "df.index = pd.util.testing.makeDateIndex(n_rows, freq='D')\n",
    "df = df.reset_index()\n",
    "df = df.rename(columns={'index':'tanggal'})\n",
    "df"
   ]
  },
  {
   "cell_type": "code",
   "execution_count": 22,
   "id": "29ef7899",
   "metadata": {},
   "outputs": [],
   "source": [
    "#melakukan formating tampilan data rame\n",
    "# dengan .style.format"
   ]
  },
  {
   "cell_type": "code",
   "execution_count": 23,
   "id": "4820a55e",
   "metadata": {},
   "outputs": [
    {
     "data": {
      "text/html": [
       "<style  type=\"text/css\" >\n",
       "</style><table id=\"T_c263d_\" ><thead>    <tr>        <th class=\"blank level0\" ></th>        <th class=\"col_heading level0 col0\" >tanggal</th>        <th class=\"col_heading level0 col1\" >omset</th>        <th class=\"col_heading level0 col2\" >penjualan</th>    </tr></thead><tbody>\n",
       "                <tr>\n",
       "                        <th id=\"T_c263d_level0_row0\" class=\"row_heading level0 row0\" >0</th>\n",
       "                        <td id=\"T_c263d_row0_col0\" class=\"data row0 col0\" >01/01/00</td>\n",
       "                        <td id=\"T_c263d_row0_col1\" class=\"data row0 col1\" >Rp 400000.00</td>\n",
       "                        <td id=\"T_c263d_row0_col2\" class=\"data row0 col2\" >50000</td>\n",
       "            </tr>\n",
       "            <tr>\n",
       "                        <th id=\"T_c263d_level0_row1\" class=\"row_heading level0 row1\" >1</th>\n",
       "                        <td id=\"T_c263d_row1_col0\" class=\"data row1 col0\" >02/01/00</td>\n",
       "                        <td id=\"T_c263d_row1_col1\" class=\"data row1 col1\" >Rp 1200000.00</td>\n",
       "                        <td id=\"T_c263d_row1_col2\" class=\"data row1 col2\" >120000</td>\n",
       "            </tr>\n",
       "            <tr>\n",
       "                        <th id=\"T_c263d_level0_row2\" class=\"row_heading level0 row2\" >2</th>\n",
       "                        <td id=\"T_c263d_row2_col0\" class=\"data row2 col0\" >03/01/00</td>\n",
       "                        <td id=\"T_c263d_row2_col1\" class=\"data row2 col1\" >Rp 1400000.00</td>\n",
       "                        <td id=\"T_c263d_row2_col2\" class=\"data row2 col2\" >80000</td>\n",
       "            </tr>\n",
       "            <tr>\n",
       "                        <th id=\"T_c263d_level0_row3\" class=\"row_heading level0 row3\" >3</th>\n",
       "                        <td id=\"T_c263d_row3_col0\" class=\"data row3 col0\" >04/01/00</td>\n",
       "                        <td id=\"T_c263d_row3_col1\" class=\"data row3 col1\" >Rp 1000000.00</td>\n",
       "                        <td id=\"T_c263d_row3_col2\" class=\"data row3 col2\" >110000</td>\n",
       "            </tr>\n",
       "            <tr>\n",
       "                        <th id=\"T_c263d_level0_row4\" class=\"row_heading level0 row4\" >4</th>\n",
       "                        <td id=\"T_c263d_row4_col0\" class=\"data row4 col0\" >05/01/00</td>\n",
       "                        <td id=\"T_c263d_row4_col1\" class=\"data row4 col1\" >Rp 1700000.00</td>\n",
       "                        <td id=\"T_c263d_row4_col2\" class=\"data row4 col2\" >60000</td>\n",
       "            </tr>\n",
       "    </tbody></table>"
      ],
      "text/plain": [
       "<pandas.io.formats.style.Styler at 0x2a3140145e0>"
      ]
     },
     "execution_count": 23,
     "metadata": {},
     "output_type": "execute_result"
    }
   ],
   "source": [
    "formatku = {'tanggal':'{:%d/%m/%y}',\n",
    "           'operasional':'Rp {:.2f}',\n",
    "           'omset':'Rp {:.2f}'}\n",
    "laporan = df.style.format(formatku)\n",
    "laporan"
   ]
  },
  {
   "cell_type": "code",
   "execution_count": 24,
   "id": "38182c82",
   "metadata": {},
   "outputs": [
    {
     "data": {
      "text/plain": [
       "pandas.io.formats.style.Styler"
      ]
     },
     "execution_count": 24,
     "metadata": {},
     "output_type": "execute_result"
    }
   ],
   "source": [
    "type(laporan)\n",
    "\n",
    "#object bukan bertipe data  data frame\n",
    "#tapi objectnya adalah styler\n",
    "#jadi tidak bisa melakukan apa yg bisa dilakukan data frame"
   ]
  },
  {
   "cell_type": "code",
   "execution_count": 27,
   "id": "9788978b",
   "metadata": {},
   "outputs": [
    {
     "ename": "AttributeError",
     "evalue": "'Styler' object has no attribute 'head'",
     "output_type": "error",
     "traceback": [
      "\u001b[1;31m---------------------------------------------------------------------------\u001b[0m",
      "\u001b[1;31mAttributeError\u001b[0m                            Traceback (most recent call last)",
      "\u001b[1;32m<ipython-input-27-180d52288fdc>\u001b[0m in \u001b[0;36m<module>\u001b[1;34m\u001b[0m\n\u001b[1;32m----> 1\u001b[1;33m \u001b[0mlaporan\u001b[0m\u001b[1;33m.\u001b[0m\u001b[0mhead\u001b[0m\u001b[1;33m(\u001b[0m\u001b[1;33m)\u001b[0m\u001b[1;33m\u001b[0m\u001b[1;33m\u001b[0m\u001b[0m\n\u001b[0m\u001b[0;32m      2\u001b[0m \u001b[0mdf\u001b[0m\u001b[1;33m.\u001b[0m\u001b[0mhead\u001b[0m\u001b[1;33m(\u001b[0m\u001b[1;33m)\u001b[0m\u001b[1;33m\u001b[0m\u001b[1;33m\u001b[0m\u001b[0m\n",
      "\u001b[1;31mAttributeError\u001b[0m: 'Styler' object has no attribute 'head'"
     ]
    }
   ],
   "source": [
    "laporan.head()\n",
    "df.head()"
   ]
  },
  {
   "cell_type": "code",
   "execution_count": 26,
   "id": "940c0cda",
   "metadata": {},
   "outputs": [
    {
     "data": {
      "text/html": [
       "<style  type=\"text/css\" >\n",
       "</style><table id=\"T_c263d_\" ><thead>    <tr>        <th class=\"col_heading level0 col0\" >tanggal</th>        <th class=\"col_heading level0 col1\" >omset</th>        <th class=\"col_heading level0 col2\" >penjualan</th>    </tr></thead><tbody>\n",
       "                <tr>\n",
       "                                <td id=\"T_c263d_row0_col0\" class=\"data row0 col0\" >01/01/00</td>\n",
       "                        <td id=\"T_c263d_row0_col1\" class=\"data row0 col1\" >Rp 400000.00</td>\n",
       "                        <td id=\"T_c263d_row0_col2\" class=\"data row0 col2\" >50000</td>\n",
       "            </tr>\n",
       "            <tr>\n",
       "                                <td id=\"T_c263d_row1_col0\" class=\"data row1 col0\" >02/01/00</td>\n",
       "                        <td id=\"T_c263d_row1_col1\" class=\"data row1 col1\" >Rp 1200000.00</td>\n",
       "                        <td id=\"T_c263d_row1_col2\" class=\"data row1 col2\" >120000</td>\n",
       "            </tr>\n",
       "            <tr>\n",
       "                                <td id=\"T_c263d_row2_col0\" class=\"data row2 col0\" >03/01/00</td>\n",
       "                        <td id=\"T_c263d_row2_col1\" class=\"data row2 col1\" >Rp 1400000.00</td>\n",
       "                        <td id=\"T_c263d_row2_col2\" class=\"data row2 col2\" >80000</td>\n",
       "            </tr>\n",
       "            <tr>\n",
       "                                <td id=\"T_c263d_row3_col0\" class=\"data row3 col0\" >04/01/00</td>\n",
       "                        <td id=\"T_c263d_row3_col1\" class=\"data row3 col1\" >Rp 1000000.00</td>\n",
       "                        <td id=\"T_c263d_row3_col2\" class=\"data row3 col2\" >110000</td>\n",
       "            </tr>\n",
       "            <tr>\n",
       "                                <td id=\"T_c263d_row4_col0\" class=\"data row4 col0\" >05/01/00</td>\n",
       "                        <td id=\"T_c263d_row4_col1\" class=\"data row4 col1\" >Rp 1700000.00</td>\n",
       "                        <td id=\"T_c263d_row4_col2\" class=\"data row4 col2\" >60000</td>\n",
       "            </tr>\n",
       "    </tbody></table>"
      ],
      "text/plain": [
       "<pandas.io.formats.style.Styler at 0x2a3140145e0>"
      ]
     },
     "execution_count": 26,
     "metadata": {},
     "output_type": "execute_result"
    }
   ],
   "source": [
    "laporan.hide_index()"
   ]
  },
  {
   "cell_type": "code",
   "execution_count": 28,
   "id": "8bc6e487",
   "metadata": {},
   "outputs": [
    {
     "data": {
      "text/html": [
       "<style  type=\"text/css\" >\n",
       "</style><table id=\"T_c263d_\" ><caption>Data Omset dan Operasional</caption><thead>    <tr>        <th class=\"col_heading level0 col0\" >tanggal</th>        <th class=\"col_heading level0 col1\" >omset</th>        <th class=\"col_heading level0 col2\" >penjualan</th>    </tr></thead><tbody>\n",
       "                <tr>\n",
       "                                <td id=\"T_c263d_row0_col0\" class=\"data row0 col0\" >01/01/00</td>\n",
       "                        <td id=\"T_c263d_row0_col1\" class=\"data row0 col1\" >Rp 400000.00</td>\n",
       "                        <td id=\"T_c263d_row0_col2\" class=\"data row0 col2\" >50000</td>\n",
       "            </tr>\n",
       "            <tr>\n",
       "                                <td id=\"T_c263d_row1_col0\" class=\"data row1 col0\" >02/01/00</td>\n",
       "                        <td id=\"T_c263d_row1_col1\" class=\"data row1 col1\" >Rp 1200000.00</td>\n",
       "                        <td id=\"T_c263d_row1_col2\" class=\"data row1 col2\" >120000</td>\n",
       "            </tr>\n",
       "            <tr>\n",
       "                                <td id=\"T_c263d_row2_col0\" class=\"data row2 col0\" >03/01/00</td>\n",
       "                        <td id=\"T_c263d_row2_col1\" class=\"data row2 col1\" >Rp 1400000.00</td>\n",
       "                        <td id=\"T_c263d_row2_col2\" class=\"data row2 col2\" >80000</td>\n",
       "            </tr>\n",
       "            <tr>\n",
       "                                <td id=\"T_c263d_row3_col0\" class=\"data row3 col0\" >04/01/00</td>\n",
       "                        <td id=\"T_c263d_row3_col1\" class=\"data row3 col1\" >Rp 1000000.00</td>\n",
       "                        <td id=\"T_c263d_row3_col2\" class=\"data row3 col2\" >110000</td>\n",
       "            </tr>\n",
       "            <tr>\n",
       "                                <td id=\"T_c263d_row4_col0\" class=\"data row4 col0\" >05/01/00</td>\n",
       "                        <td id=\"T_c263d_row4_col1\" class=\"data row4 col1\" >Rp 1700000.00</td>\n",
       "                        <td id=\"T_c263d_row4_col2\" class=\"data row4 col2\" >60000</td>\n",
       "            </tr>\n",
       "    </tbody></table>"
      ],
      "text/plain": [
       "<pandas.io.formats.style.Styler at 0x2a3140145e0>"
      ]
     },
     "execution_count": 28,
     "metadata": {},
     "output_type": "execute_result"
    }
   ],
   "source": [
    "laporan.set_caption('Data Omset dan Operasional')"
   ]
  },
  {
   "cell_type": "code",
   "execution_count": 29,
   "id": "ef1a4b79",
   "metadata": {},
   "outputs": [
    {
     "data": {
      "text/html": [
       "<style  type=\"text/css\" >\n",
       "#T_c263d_row0_col1{\n",
       "            background-color:  pink;\n",
       "        }#T_c263d_row0_col2{\n",
       "            background-color:  blue;\n",
       "        }#T_c263d_row1_col2,#T_c263d_row4_col1{\n",
       "            background-color:  green;\n",
       "        }</style><table id=\"T_c263d_\" ><caption>Data Omset dan Operasional</caption><thead>    <tr>        <th class=\"col_heading level0 col0\" >tanggal</th>        <th class=\"col_heading level0 col1\" >omset</th>        <th class=\"col_heading level0 col2\" >penjualan</th>    </tr></thead><tbody>\n",
       "                <tr>\n",
       "                                <td id=\"T_c263d_row0_col0\" class=\"data row0 col0\" >01/01/00</td>\n",
       "                        <td id=\"T_c263d_row0_col1\" class=\"data row0 col1\" >Rp 400000.00</td>\n",
       "                        <td id=\"T_c263d_row0_col2\" class=\"data row0 col2\" >50000</td>\n",
       "            </tr>\n",
       "            <tr>\n",
       "                                <td id=\"T_c263d_row1_col0\" class=\"data row1 col0\" >02/01/00</td>\n",
       "                        <td id=\"T_c263d_row1_col1\" class=\"data row1 col1\" >Rp 1200000.00</td>\n",
       "                        <td id=\"T_c263d_row1_col2\" class=\"data row1 col2\" >120000</td>\n",
       "            </tr>\n",
       "            <tr>\n",
       "                                <td id=\"T_c263d_row2_col0\" class=\"data row2 col0\" >03/01/00</td>\n",
       "                        <td id=\"T_c263d_row2_col1\" class=\"data row2 col1\" >Rp 1400000.00</td>\n",
       "                        <td id=\"T_c263d_row2_col2\" class=\"data row2 col2\" >80000</td>\n",
       "            </tr>\n",
       "            <tr>\n",
       "                                <td id=\"T_c263d_row3_col0\" class=\"data row3 col0\" >04/01/00</td>\n",
       "                        <td id=\"T_c263d_row3_col1\" class=\"data row3 col1\" >Rp 1000000.00</td>\n",
       "                        <td id=\"T_c263d_row3_col2\" class=\"data row3 col2\" >110000</td>\n",
       "            </tr>\n",
       "            <tr>\n",
       "                                <td id=\"T_c263d_row4_col0\" class=\"data row4 col0\" >05/01/00</td>\n",
       "                        <td id=\"T_c263d_row4_col1\" class=\"data row4 col1\" >Rp 1700000.00</td>\n",
       "                        <td id=\"T_c263d_row4_col2\" class=\"data row4 col2\" >60000</td>\n",
       "            </tr>\n",
       "    </tbody></table>"
      ],
      "text/plain": [
       "<pandas.io.formats.style.Styler at 0x2a3140145e0>"
      ]
     },
     "execution_count": 29,
     "metadata": {},
     "output_type": "execute_result"
    }
   ],
   "source": [
    "#kita bisa memberikan highlight nilai minimun dan maksimum\n",
    "\n",
    "laporan.highlight_min('omset', color='pink')\n",
    "laporan.highlight_max('omset', color='green')\n",
    "\n",
    "laporan.highlight_min('penjualan', color='blue')\n",
    "laporan.highlight_max('penjualan', color='green')"
   ]
  },
  {
   "cell_type": "code",
   "execution_count": null,
   "id": "e6d77ab2",
   "metadata": {},
   "outputs": [],
   "source": []
  }
 ],
 "metadata": {
  "kernelspec": {
   "display_name": "Python 3",
   "language": "python",
   "name": "python3"
  },
  "language_info": {
   "codemirror_mode": {
    "name": "ipython",
    "version": 3
   },
   "file_extension": ".py",
   "mimetype": "text/x-python",
   "name": "python",
   "nbconvert_exporter": "python",
   "pygments_lexer": "ipython3",
   "version": "3.8.8"
  }
 },
 "nbformat": 4,
 "nbformat_minor": 5
}
