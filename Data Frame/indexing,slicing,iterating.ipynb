{
 "cells": [
  {
   "cell_type": "code",
   "execution_count": 9,
   "id": "269e31bc",
   "metadata": {},
   "outputs": [],
   "source": [
    "import numpy as np\n"
   ]
  },
  {
   "cell_type": "code",
   "execution_count": 12,
   "id": "4fc08ea0",
   "metadata": {},
   "outputs": [
    {
     "name": "stdout",
     "output_type": "stream",
     "text": [
      "[ 0  1  4  9 16 25 36 49 64 81]\n",
      "elemen ke-1 0\n",
      "elemen terakhir 81\n"
     ]
    }
   ],
   "source": [
    "a = np.arange(10)**2\n",
    "print(a)\n",
    "print(\"elemen ke-1\",a[0])\n",
    "print(\"elemen terakhir\",a[-1])"
   ]
  },
  {
   "cell_type": "code",
   "execution_count": 13,
   "id": "f66fbcc9",
   "metadata": {},
   "outputs": [
    {
     "name": "stdout",
     "output_type": "stream",
     "text": [
      "mengambil element dari 1-6 [ 0  1  4  9 16 25]\n"
     ]
    }
   ],
   "source": [
    "print(\"mengambil element dari 1-6\", a[0:6]) #[start,end]"
   ]
  },
  {
   "cell_type": "code",
   "execution_count": 14,
   "id": "456befa2",
   "metadata": {},
   "outputs": [
    {
     "name": "stdout",
     "output_type": "stream",
     "text": [
      "mengambil element dari 3 sampai akhir [ 9 16 25 36 49 64 81]\n"
     ]
    }
   ],
   "source": [
    "print(\"mengambil element dari 4 sampai akhir\", a[3:]) #[start,end]"
   ]
  },
  {
   "cell_type": "code",
   "execution_count": 15,
   "id": "a2ea0da0",
   "metadata": {},
   "outputs": [
    {
     "name": "stdout",
     "output_type": "stream",
     "text": [
      "mengambil element dari awal sampai 5 [ 0  1  4  9 16]\n"
     ]
    }
   ],
   "source": [
    "print(\"mengambil element dari awal sampai 5\", a[:5]) #[start,end]"
   ]
  },
  {
   "cell_type": "code",
   "execution_count": 16,
   "id": "49be83ea",
   "metadata": {},
   "outputs": [
    {
     "name": "stdout",
     "output_type": "stream",
     "text": [
      "value 0\n",
      "value 1\n",
      "value 4\n",
      "value 9\n",
      "value 16\n",
      "value 25\n",
      "value 36\n",
      "value 49\n",
      "value 64\n",
      "value 81\n"
     ]
    }
   ],
   "source": [
    "for i in a:\n",
    "    print(\"value\",i)"
   ]
  },
  {
   "cell_type": "code",
   "execution_count": null,
   "id": "392878bd",
   "metadata": {},
   "outputs": [],
   "source": []
  }
 ],
 "metadata": {
  "kernelspec": {
   "display_name": "Python 3",
   "language": "python",
   "name": "python3"
  },
  "language_info": {
   "codemirror_mode": {
    "name": "ipython",
    "version": 3
   },
   "file_extension": ".py",
   "mimetype": "text/x-python",
   "name": "python",
   "nbconvert_exporter": "python",
   "pygments_lexer": "ipython3",
   "version": "3.8.8"
  }
 },
 "nbformat": 4,
 "nbformat_minor": 5
}
