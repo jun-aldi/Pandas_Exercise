{
 "cells": [
  {
   "cell_type": "code",
   "execution_count": 5,
   "id": "218fa1f1",
   "metadata": {},
   "outputs": [],
   "source": [
    "data_siswa = {'nama':'Bejo', 'nilai':80, 'lulus':True, 'Hobi':['game','belajar']}"
   ]
  },
  {
   "cell_type": "code",
   "execution_count": 9,
   "id": "0c4bb5a4",
   "metadata": {},
   "outputs": [
    {
     "name": "stdout",
     "output_type": "stream",
     "text": [
      "data siswa:{'nama': 'Bejo', 'nilai': 80, 'lulus': True, 'Hobi': ['game', 'belajar']}\n"
     ]
    }
   ],
   "source": [
    "print(f'data siswa:{data_siswa}')"
   ]
  },
  {
   "cell_type": "code",
   "execution_count": null,
   "id": "75f4263c",
   "metadata": {},
   "outputs": [],
   "source": [
    "data_kososng={}"
   ]
  },
  {
   "cell_type": "code",
   "execution_count": null,
   "id": "267ad0e3",
   "metadata": {},
   "outputs": [],
   "source": [
    "#dictionary bukan data type\n",
    "#sehingga untuk mengakses bukan dengan index\n",
    "#mekanisme akses dengan memanfaatkan key"
   ]
  },
  {
   "cell_type": "code",
   "execution_count": 10,
   "id": "a78e1ec0",
   "metadata": {},
   "outputs": [
    {
     "name": "stdout",
     "output_type": "stream",
     "text": [
      "Bejo\n"
     ]
    }
   ],
   "source": [
    "print(data_siswa['nama'])"
   ]
  },
  {
   "cell_type": "code",
   "execution_count": 11,
   "id": "f38d0764",
   "metadata": {},
   "outputs": [
    {
     "ename": "KeyError",
     "evalue": "'alamat'",
     "output_type": "error",
     "traceback": [
      "\u001b[1;31m---------------------------------------------------------------------------\u001b[0m",
      "\u001b[1;31mKeyError\u001b[0m                                  Traceback (most recent call last)",
      "\u001b[1;32m<ipython-input-11-ddc4c7bb5ea0>\u001b[0m in \u001b[0;36m<module>\u001b[1;34m\u001b[0m\n\u001b[1;32m----> 1\u001b[1;33m \u001b[0mprint\u001b[0m\u001b[1;33m(\u001b[0m\u001b[0mdata_siswa\u001b[0m\u001b[1;33m[\u001b[0m\u001b[1;34m'alamat'\u001b[0m\u001b[1;33m]\u001b[0m\u001b[1;33m)\u001b[0m\u001b[1;33m\u001b[0m\u001b[1;33m\u001b[0m\u001b[0m\n\u001b[0m",
      "\u001b[1;31mKeyError\u001b[0m: 'alamat'"
     ]
    }
   ],
   "source": [
    "print(data_siswa['alamat'])"
   ]
  },
  {
   "cell_type": "code",
   "execution_count": 12,
   "id": "c0bc2260",
   "metadata": {},
   "outputs": [
    {
     "name": "stdout",
     "output_type": "stream",
     "text": [
      "Bejo\n"
     ]
    }
   ],
   "source": [
    "#dengan method get\n",
    "print(data_siswa.get('nama'))"
   ]
  },
  {
   "cell_type": "code",
   "execution_count": 15,
   "id": "2fc28450",
   "metadata": {},
   "outputs": [
    {
     "name": "stdout",
     "output_type": "stream",
     "text": [
      "data tidak ditemukan\n",
      "Bejo\n"
     ]
    }
   ],
   "source": [
    "#dengan method get dapat mengenerate nilai apabila tidak ditemukan\n",
    "#atau nilai alternatif\n",
    "print(data_siswa.get('alamat','data tidak ditemukan'))\n",
    "print(data_siswa.get('nama','data tidak ditemukan'))"
   ]
  },
  {
   "cell_type": "code",
   "execution_count": 16,
   "id": "50d08fa5",
   "metadata": {},
   "outputs": [
    {
     "name": "stdout",
     "output_type": "stream",
     "text": [
      "data kunci:dict_keys(['nama', 'nilai', 'lulus', 'Hobi'])\n"
     ]
    }
   ],
   "source": [
    "#python dapat melakukan ekstrasi keseluruhan key\n",
    "#dengan function .keys\n",
    "data_kunci=data_siswa.keys()\n",
    "print(f'data kunci:{data_kunci}')\n"
   ]
  },
  {
   "cell_type": "code",
   "execution_count": 17,
   "id": "88868bee",
   "metadata": {},
   "outputs": [
    {
     "name": "stdout",
     "output_type": "stream",
     "text": [
      "nama\n",
      "nilai\n",
      "lulus\n",
      "Hobi\n"
     ]
    }
   ],
   "source": [
    "for kunci in data_kunci:\n",
    "    print(kunci)"
   ]
  },
  {
   "cell_type": "code",
   "execution_count": 19,
   "id": "cd41cb07",
   "metadata": {},
   "outputs": [
    {
     "name": "stdout",
     "output_type": "stream",
     "text": [
      "data nilai:dict_values(['Bejo', 80, True, ['game', 'belajar']])\n"
     ]
    }
   ],
   "source": [
    "#function values hanya mengakses nilainya saja\n",
    "daftar_nilai = data_siswa.values()\n",
    "print(f'data nilai:{daftar_nilai}')"
   ]
  },
  {
   "cell_type": "code",
   "execution_count": 20,
   "id": "7a12efc9",
   "metadata": {},
   "outputs": [
    {
     "name": "stdout",
     "output_type": "stream",
     "text": [
      "Bejo\n",
      "80\n",
      "True\n",
      "['game', 'belajar']\n"
     ]
    }
   ],
   "source": [
    "for nilai in daftar_nilai:\n",
    "    print(nilai)"
   ]
  },
  {
   "cell_type": "code",
   "execution_count": 21,
   "id": "58fb9461",
   "metadata": {},
   "outputs": [
    {
     "name": "stdout",
     "output_type": "stream",
     "text": [
      "daftar kunci nilai:dict_items([('nama', 'Bejo'), ('nilai', 80), ('lulus', True), ('Hobi', ['game', 'belajar'])])\n"
     ]
    }
   ],
   "source": [
    "#mengakses kays dan values\n",
    "#secara berpasangan\n",
    "daftar_kunci_nilai = data_siswa.items()\n",
    "print(f'daftar kunci nilai:{daftar_kunci_nilai}')"
   ]
  },
  {
   "cell_type": "code",
   "execution_count": 22,
   "id": "19044e9a",
   "metadata": {},
   "outputs": [
    {
     "name": "stdout",
     "output_type": "stream",
     "text": [
      "('nama', 'Bejo')\n",
      "('nilai', 80)\n",
      "('lulus', True)\n",
      "('Hobi', ['game', 'belajar'])\n"
     ]
    }
   ],
   "source": [
    "for items in daftar_kunci_nilai:\n",
    "    print(items)\n"
   ]
  },
  {
   "cell_type": "code",
   "execution_count": 23,
   "id": "42df99a4",
   "metadata": {},
   "outputs": [
    {
     "name": "stdout",
     "output_type": "stream",
     "text": [
      "nama = Bejo\n",
      "nilai = 80\n",
      "lulus = True\n",
      "Hobi = ['game', 'belajar']\n"
     ]
    }
   ],
   "source": [
    "for k,v in daftar_kunci_nilai:\n",
    "    print(f'{k} = {v}')"
   ]
  },
  {
   "cell_type": "code",
   "execution_count": 25,
   "id": "fb8c2be8",
   "metadata": {},
   "outputs": [
    {
     "name": "stdout",
     "output_type": "stream",
     "text": [
      "data siswa:{'nama': 'Bejo', 'nilai': 70, 'lulus': True, 'Hobi': ['game', 'belajar']}\n"
     ]
    }
   ],
   "source": [
    "#ubah nilai\n",
    "data_siswa['nilai']=70\n",
    "print(f'data siswa:{data_siswa}')"
   ]
  },
  {
   "cell_type": "code",
   "execution_count": 28,
   "id": "9ddb82cb",
   "metadata": {},
   "outputs": [
    {
     "name": "stdout",
     "output_type": "stream",
     "text": [
      "data siswa:{'nama': 'Tejo', 'nilai': 70, 'lulus': True, 'Hobi': ['game', 'belajar'], 'Progam Studi': 'Teknik Informatika'}\n"
     ]
    }
   ],
   "source": [
    "#tambah keys dan nilai\n",
    "data_siswa.update({'nama':'Tejo', 'nilai':70, 'Progam Studi':'Teknik Informatika'})\n",
    "print(f'data siswa:{data_siswa}')"
   ]
  },
  {
   "cell_type": "code",
   "execution_count": 29,
   "id": "819aa7c0",
   "metadata": {},
   "outputs": [
    {
     "name": "stdout",
     "output_type": "stream",
     "text": [
      "data siswa:{'nama': 'Tejo', 'lulus': True, 'Hobi': ['game', 'belajar'], 'Progam Studi': 'Teknik Informatika'}\n"
     ]
    }
   ],
   "source": [
    "#menghapus data\n",
    "#method pop\n",
    "\n",
    "data_siswa.pop('nilai')\n",
    "\n",
    "print(f'data siswa:{data_siswa}')"
   ]
  },
  {
   "cell_type": "code",
   "execution_count": 30,
   "id": "ae06c129",
   "metadata": {},
   "outputs": [
    {
     "name": "stdout",
     "output_type": "stream",
     "text": [
      "data siswa:data tidak ditemukan\n"
     ]
    }
   ],
   "source": [
    "data_pop=data_siswa.pop('alamat','data tidak ditemukan')\n",
    "print(f'data siswa:{data_pop}')"
   ]
  },
  {
   "cell_type": "code",
   "execution_count": 31,
   "id": "f028f08d",
   "metadata": {},
   "outputs": [
    {
     "name": "stdout",
     "output_type": "stream",
     "text": [
      "data siswa:{'bidang minat': 'Machine learning', 'bahasa pemrogaman': 'python'}\n"
     ]
    }
   ],
   "source": [
    "data_tambahan = {'bidang minat':'Machine learning','bahasa pemrogaman':'python'}\n",
    "print(f'data siswa:{data_tambahan}')"
   ]
  },
  {
   "cell_type": "code",
   "execution_count": 32,
   "id": "9d6f0eb1",
   "metadata": {},
   "outputs": [
    {
     "name": "stdout",
     "output_type": "stream",
     "text": [
      "data siswa:{'nama': 'Tejo', 'lulus': True, 'Hobi': ['game', 'belajar'], 'Progam Studi': 'Teknik Informatika', 'bidang minat': 'Machine learning', 'bahasa pemrogaman': 'python'}\n"
     ]
    }
   ],
   "source": [
    "#mengabungkan dictionary\n",
    "data_gabungan ={**data_siswa,**data_tambahan}\n",
    "print(f'data siswa:{data_gabungan}')"
   ]
  },
  {
   "cell_type": "code",
   "execution_count": null,
   "id": "bf9eb115",
   "metadata": {},
   "outputs": [],
   "source": [
    "#dictionary pada python erat dengan json\n",
    "#dictionary python bisa disimpan ke json"
   ]
  },
  {
   "cell_type": "code",
   "execution_count": 33,
   "id": "3bc351af",
   "metadata": {},
   "outputs": [],
   "source": [
    "import json\n",
    "data_siswa = {'nama':'Bejo', 'nilai':80, 'lulus':True, 'Hobi':['game','belajar']}\n",
    "\n",
    "with open('fileku.json','w') as fileku:\n",
    "    json.dump(data_siswa,fileku)"
   ]
  },
  {
   "cell_type": "code",
   "execution_count": 36,
   "id": "50033f20",
   "metadata": {},
   "outputs": [
    {
     "name": "stdout",
     "output_type": "stream",
     "text": [
      "dictionariku:{'nama': 'Bejo', 'nilai': 80, 'lulus': True, 'Hobi': ['game', 'belajar']}\n"
     ]
    }
   ],
   "source": [
    "#baca file json\n",
    "\n",
    "import json\n",
    "with open('fileku.json', 'r') as fileku:\n",
    "    dictku = json.load(fileku)\n",
    "\n",
    "print(f'dictionariku:{dictku}')"
   ]
  },
  {
   "cell_type": "code",
   "execution_count": null,
   "id": "a0cdfd58",
   "metadata": {},
   "outputs": [],
   "source": [
    "#Dictionary :\n",
    "#dictionary collection data type\n",
    "#pasangan keys dan value\n",
    "#bukansequance data type\n",
    "#nilai di dictionary diakses dengan keys\n",
    "#dictionary adalah dapat diubah valuenya"
   ]
  }
 ],
 "metadata": {
  "kernelspec": {
   "display_name": "Python 3",
   "language": "python",
   "name": "python3"
  },
  "language_info": {
   "codemirror_mode": {
    "name": "ipython",
    "version": 3
   },
   "file_extension": ".py",
   "mimetype": "text/x-python",
   "name": "python",
   "nbconvert_exporter": "python",
   "pygments_lexer": "ipython3",
   "version": "3.8.8"
  }
 },
 "nbformat": 4,
 "nbformat_minor": 5
}
