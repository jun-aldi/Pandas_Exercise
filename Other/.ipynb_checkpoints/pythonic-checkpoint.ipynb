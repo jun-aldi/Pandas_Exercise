{
 "cells": [
  {
   "cell_type": "code",
   "execution_count": 2,
   "id": "24bb58a7",
   "metadata": {},
   "outputs": [
    {
     "name": "stdout",
     "output_type": "stream",
     "text": [
      "d=(10, 20, 30)\n"
     ]
    }
   ],
   "source": [
    "#pythonic 1\n",
    "#packing\n",
    "\n",
    "a, b, c = 10, 20, 30\n",
    "d = a, b, c\n",
    "print(f'd={d}')\n",
    "\n",
    "#kalau pengen list tinggal kasih []"
   ]
  },
  {
   "cell_type": "code",
   "execution_count": null,
   "id": "b4a0a9f2",
   "metadata": {},
   "outputs": [],
   "source": [
    "#pythonic 2\n",
    "#pertukaran nilai\n",
    "\n",
    "a, b = 10, 20\n",
    "a, b =b, a"
   ]
  },
  {
   "cell_type": "code",
   "execution_count": 7,
   "id": "8b2546a4",
   "metadata": {},
   "outputs": [
    {
     "name": "stdout",
     "output_type": "stream",
     "text": [
      "True\n"
     ]
    }
   ],
   "source": [
    "#pythonic 3\n",
    "#chained comparison\n",
    "\n",
    "a = 25\n",
    "#print((a >= 20) and (a <= 30))\n",
    "\n",
    "print(20 <=a<=30)"
   ]
  },
  {
   "cell_type": "code",
   "execution_count": 13,
   "id": "7e5b9f36",
   "metadata": {},
   "outputs": [
    {
     "name": "stdout",
     "output_type": "stream",
     "text": [
      "listku=[10, 20, 30]\n",
      "a=10, b=20, c=30\n"
     ]
    }
   ],
   "source": [
    "#pythonic 3\n",
    "#unpacking\n",
    "\n",
    "listku = [10,20,30]\n",
    "\n",
    "#variabel untuk menampung sebuah list\n",
    "\n",
    "a, b, c = listku\n",
    "\n",
    "print(f'listku={listku}')\n",
    "print(f'a={a}, b={b}, c={c}')\n"
   ]
  },
  {
   "cell_type": "code",
   "execution_count": 11,
   "id": "c7ce54c2",
   "metadata": {},
   "outputs": [
    {
     "name": "stdout",
     "output_type": "stream",
     "text": [
      "10\n",
      "20\n",
      "30\n"
     ]
    }
   ],
   "source": [
    "#pythonic 4\n",
    "#for loop\n",
    "\n",
    "listku = [10, 20, 30]\n",
    "for item in listku:\n",
    "    print(item)"
   ]
  },
  {
   "cell_type": "code",
   "execution_count": 2,
   "id": "b1d3d8dd",
   "metadata": {},
   "outputs": [
    {
     "name": "stdout",
     "output_type": "stream",
     "text": [
      "001--al\n",
      "002--ju\n",
      "003--ni\n"
     ]
    }
   ],
   "source": [
    "#pythonic 5\n",
    "#enumarate\n",
    "\n",
    "nim = ['001', '002', '003']\n",
    "nama = ['al', 'ju', 'ni']\n",
    "\n",
    "#for i in range(len(nim)):\n",
    "#   print(f'{nim[i]}--{nama[i]}')\n",
    "\n",
    "for i,data_nim in enumerate(nim):\n",
    "    print(f'{data_nim}--{nama[i]}')"
   ]
  },
  {
   "cell_type": "code",
   "execution_count": 4,
   "id": "87b6d2e4",
   "metadata": {},
   "outputs": [
    {
     "name": "stdout",
     "output_type": "stream",
     "text": [
      "001--al--makan\n",
      "002--ju--nyanyi\n",
      "003--ni--tidur\n"
     ]
    }
   ],
   "source": [
    "#pythonic 6\n",
    "#zip\n",
    "\n",
    "nim = ['001', '002', '003']\n",
    "nama = ['al', 'ju', 'ni']\n",
    "hobi =['makan', 'nyanyi', 'tidur']\n",
    "\n",
    "for d_nim, d_nama, d_hobi in zip (nim, nama, hobi):\n",
    "    print(f'{d_nim}--{d_nama}--{d_hobi}')"
   ]
  },
  {
   "cell_type": "code",
   "execution_count": 6,
   "id": "05860269",
   "metadata": {},
   "outputs": [
    {
     "name": "stdout",
     "output_type": "stream",
     "text": [
      "[10, 20, 30]\n",
      "[20, 40, 60]\n"
     ]
    }
   ],
   "source": [
    "#pythonic 7\n",
    "#map\n",
    "\n",
    "def lipat_ganda(x):\n",
    "    return x * 2\n",
    "\n",
    "listku =[10, 20, 30]\n",
    "listmu = []\n",
    "\n",
    "for item in listku:\n",
    "    listmu.append(lipat_ganda(item))\n",
    "\n",
    "print(listku)\n",
    "print(listmu)"
   ]
  },
  {
   "cell_type": "code",
   "execution_count": 12,
   "id": "3042a474",
   "metadata": {},
   "outputs": [
    {
     "name": "stdout",
     "output_type": "stream",
     "text": [
      "[10, 20, 30]\n",
      "[20, 40, 60]\n"
     ]
    }
   ],
   "source": [
    "listmu = list(map(lipat_ganda, listku))\n",
    "print(listku)\n",
    "print(listmu)"
   ]
  },
  {
   "cell_type": "code",
   "execution_count": 13,
   "id": "4500f40f",
   "metadata": {},
   "outputs": [
    {
     "name": "stdout",
     "output_type": "stream",
     "text": [
      "[10, 20, 30]\n",
      "[20, 40, 60]\n"
     ]
    }
   ],
   "source": [
    "#pythonic 8\n",
    "#lambda expresion\n",
    "\n",
    "listmu = list(map(lambda x: x*2, listku))\n",
    "print(listku)\n",
    "print(listmu)"
   ]
  },
  {
   "cell_type": "code",
   "execution_count": 14,
   "id": "f1526bbd",
   "metadata": {},
   "outputs": [
    {
     "name": "stdout",
     "output_type": "stream",
     "text": [
      "[1, 2, 3, 4, 5, 6, 7, 8, 9, 10, 11, 12, 13, 14, 15, 16, 17, 18, 19, 20, 21, 22, 23, 24, 25, 26, 27, 28, 29, 30, 31, 32, 33, 34, 35, 36, 37, 38, 39, 40, 41, 42, 43, 44, 45, 46, 47, 48, 49]\n"
     ]
    }
   ],
   "source": [
    "#pythonic 9\n",
    "#list comprehension\n",
    "\n",
    "listku=[]\n",
    "for i in range(1, 50):\n",
    "    listku.append(i)\n",
    "\n",
    "print(listku)"
   ]
  },
  {
   "cell_type": "code",
   "execution_count": 15,
   "id": "60370766",
   "metadata": {},
   "outputs": [
    {
     "name": "stdout",
     "output_type": "stream",
     "text": [
      "[1, 2, 3, 4, 5, 6, 7, 8, 9, 10, 11, 12, 13, 14, 15, 16, 17, 18, 19, 20, 21, 22, 23, 24, 25, 26, 27, 28, 29, 30, 31, 32, 33, 34, 35, 36, 37, 38, 39, 40, 41, 42, 43, 44, 45, 46, 47, 48, 49, 50]\n"
     ]
    }
   ],
   "source": [
    "listku = [i for i in range(1,51)]\n",
    "print(listku)"
   ]
  },
  {
   "cell_type": "code",
   "execution_count": 16,
   "id": "15fbfdd1",
   "metadata": {},
   "outputs": [
    {
     "name": "stdout",
     "output_type": "stream",
     "text": [
      "[60]\n"
     ]
    }
   ],
   "source": [
    "#pythonic 10\n",
    "#list comprehension dan conditional if\n",
    "listmu =[30, 60 , 10, 50]\n",
    "listku = []\n",
    "\n",
    "for item in listmu:\n",
    "    if item > 50:\n",
    "        listku.append(item)\n",
    "\n",
    "print(listku)"
   ]
  },
  {
   "cell_type": "code",
   "execution_count": 19,
   "id": "4d22e3a1",
   "metadata": {},
   "outputs": [
    {
     "name": "stdout",
     "output_type": "stream",
     "text": [
      "[60]\n"
     ]
    }
   ],
   "source": [
    "listku =[item for item in listmu if item > 50]\n",
    "print(listku)"
   ]
  },
  {
   "cell_type": "code",
   "execution_count": 20,
   "id": "4a88a27b",
   "metadata": {},
   "outputs": [
    {
     "name": "stdout",
     "output_type": "stream",
     "text": [
      "[['al', 10], ['jun', 12], ['ni', 11]]\n"
     ]
    }
   ],
   "source": [
    "#pythonic 11\n",
    "#list comprenhension dan zip function\n",
    "\n",
    "nama=['al', 'jun', 'ni']\n",
    "usia=[10, 12 , 11]\n",
    "\n",
    "listku=[]\n",
    "\n",
    "for i in range(len(nama)):\n",
    "    listku.append([nama[i], usia[i]])\n",
    "\n",
    "print(listku)"
   ]
  },
  {
   "cell_type": "code",
   "execution_count": 21,
   "id": "58970485",
   "metadata": {},
   "outputs": [
    {
     "name": "stdout",
     "output_type": "stream",
     "text": [
      "[['al', 10], ['jun', 12], ['ni', 11]]\n"
     ]
    }
   ],
   "source": [
    "listku = [[d_nama, d_usia] for d_nama, d_usia in zip (nama, usia)]\n",
    "\n",
    "print(listku)"
   ]
  },
  {
   "cell_type": "code",
   "execution_count": 22,
   "id": "d917c8db",
   "metadata": {},
   "outputs": [
    {
     "name": "stdout",
     "output_type": "stream",
     "text": [
      "[30, 40]\n"
     ]
    }
   ],
   "source": [
    "#pythonic 12\n",
    "#slicing\n",
    "\n",
    "listmu = [10, 20, 30, 40]\n",
    "listku = listmu[2:5]\n",
    "\n",
    "print(listku)"
   ]
  },
  {
   "cell_type": "code",
   "execution_count": 25,
   "id": "87da9dca",
   "metadata": {},
   "outputs": [
    {
     "name": "stdout",
     "output_type": "stream",
     "text": [
      "[50, 40, 30, 20, 10]\n",
      "RAJALEB\n"
     ]
    }
   ],
   "source": [
    "#pythonic 13\n",
    "#reversing a list and string\n",
    "\n",
    "listmu = [10, 20, 30 ,40 ,50]\n",
    "listku = listmu[::-1]\n",
    "\n",
    "print(listku)\n",
    "\n",
    "kata= 'BELAJAR'\n",
    "kata_balik = kata[::-1]\n",
    "print(kata_balik)"
   ]
  },
  {
   "cell_type": "code",
   "execution_count": 30,
   "id": "d4ea6f48",
   "metadata": {},
   "outputs": [
    {
     "name": "stdout",
     "output_type": "stream",
     "text": [
      "['belajar', 'bahasa', 'python']\n",
      "['belajar', 'bahasa', 'python']\n"
     ]
    }
   ],
   "source": [
    "#pythonic 14\n",
    "#spliting a string\n",
    "\n",
    "teks = 'belajar bahasa python'\n",
    "listku=teks.split()\n",
    "\n",
    "print(listku)\n",
    "\n",
    "teks2 = 'belajar,bahasa,python'\n",
    "listku2 = teks2.split(',')\n",
    "print(listku2)"
   ]
  },
  {
   "cell_type": "code",
   "execution_count": 1,
   "id": "cecf190b",
   "metadata": {},
   "outputs": [
    {
     "name": "stdout",
     "output_type": "stream",
     "text": [
      "belajar pemrogaman python\n"
     ]
    }
   ],
   "source": [
    "#pythonic 15\n",
    "#join string\n",
    "\n",
    "listku = ['belajar', 'pemrogaman', 'python']\n",
    "kalimat = ' '.join(listku)\n",
    "print(kalimat)"
   ]
  },
  {
   "cell_type": "code",
   "execution_count": 5,
   "id": "2419332c",
   "metadata": {},
   "outputs": [
    {
     "name": "stdout",
     "output_type": "stream",
     "text": [
      "200\n"
     ]
    }
   ],
   "source": [
    "#pythonic 16\n",
    "#chained function call\n",
    "\n",
    "def tambah(a, b):\n",
    "    return a + b\n",
    "\n",
    "def kali(a, b):\n",
    "    return a * b\n",
    "\n",
    "x, y = 10, 20\n",
    "kondisi = False\n",
    "\n",
    "hasil = (tambah if kondisi else kali)(x, y)\n",
    "print(hasil)"
   ]
  },
  {
   "cell_type": "code",
   "execution_count": 7,
   "id": "e15a7d2e",
   "metadata": {},
   "outputs": [
    {
     "name": "stdout",
     "output_type": "stream",
     "text": [
      "dua\n"
     ]
    }
   ],
   "source": [
    "#pythonic 17\n",
    "#switch case\n",
    "\n",
    "def one():\n",
    "    print('satu')\n",
    "\n",
    "def two():\n",
    "    print('dua')\n",
    "    \n",
    "def three():\n",
    "    print('tiga')\n",
    "\n",
    "case = 'dua'\n",
    "switch = {\n",
    "    'satu': one,\n",
    "    'dua': two,\n",
    "    'tiga': three,\n",
    "}\n",
    "\n",
    "switch[case]()"
   ]
  },
  {
   "cell_type": "code",
   "execution_count": 8,
   "id": "bf373aa8",
   "metadata": {},
   "outputs": [
    {
     "name": "stdout",
     "output_type": "stream",
     "text": [
      "10 bernilai positif\n"
     ]
    }
   ],
   "source": [
    "#pythonic 18\n",
    "#ternary expresion\n",
    "\n",
    "a = 10\n",
    "b = 'negatif' if a < 10 else 'positif'\n",
    "\n",
    "print(f'{a} bernilai {b}')"
   ]
  },
  {
   "cell_type": "code",
   "execution_count": 9,
   "id": "bd959be1",
   "metadata": {},
   "outputs": [
    {
     "name": "stdout",
     "output_type": "stream",
     "text": [
      "pythonic\n",
      "pythonic\n",
      "pythonic\n"
     ]
    }
   ],
   "source": [
    "#pythonic 19\n",
    "#underscore _\n",
    "\n",
    "for _ in range(3):\n",
    "    print('pythonic')\n",
    "    \n"
   ]
  },
  {
   "cell_type": "code",
   "execution_count": 10,
   "id": "d62c539a",
   "metadata": {},
   "outputs": [
    {
     "name": "stdout",
     "output_type": "stream",
     "text": [
      "1 2\n"
     ]
    }
   ],
   "source": [
    "listku=[1, 2, 3, 4, 5, 6, 7, 8, 9, 0]\n",
    "a, b, *_ = listku\n",
    "print(a, b)"
   ]
  },
  {
   "cell_type": "code",
   "execution_count": 11,
   "id": "c457b55a",
   "metadata": {},
   "outputs": [
    {
     "name": "stdout",
     "output_type": "stream",
     "text": [
      "tidak ditemukan\n"
     ]
    }
   ],
   "source": [
    "#pythonic 20\n",
    "#function IN\n",
    "#mengecek keberaddan nilai dalam bahasa pemrogaman\n",
    "\n",
    "listku=[1, 2, 3, 4, 5, 6, 7, 8, 9, 0]\n",
    "cari = 11\n",
    "\n",
    "if cari in listku:\n",
    "    print('ditemukan')\n",
    "else:\n",
    "    print('tidak ditemukan')"
   ]
  },
  {
   "cell_type": "code",
   "execution_count": 12,
   "id": "5378fec2",
   "metadata": {},
   "outputs": [
    {
     "name": "stdout",
     "output_type": "stream",
     "text": [
      "89\n",
      "al\n",
      "3.21\n"
     ]
    }
   ],
   "source": [
    "#pythonic 21\n",
    "#multiple return values\n",
    "\n",
    "def fungsiku():\n",
    "    nim = 89\n",
    "    nama = 'al'\n",
    "    ipk = 3.21\n",
    "    return nim, nama, ipk\n",
    "\n",
    "a, b, c = fungsiku()\n",
    "print(a)\n",
    "print(b)\n",
    "print(c)\n",
    "    "
   ]
  },
  {
   "cell_type": "code",
   "execution_count": 14,
   "id": "170b174d",
   "metadata": {},
   "outputs": [
    {
     "name": "stdout",
     "output_type": "stream",
     "text": [
      "[('001', 'al', 3.21), ('002', 'ju', 3.33), ('003', 'ni', 3.91)]\n"
     ]
    }
   ],
   "source": [
    "#pythonic 22\n",
    "#Mengenal Fungsi Zip untuk Menyatukan Sekumpulan List yang Berkorelasi pada Python\n",
    "\n",
    "nim = ['001', '002', '003']\n",
    "nama = ['al', 'ju', 'ni']\n",
    "ipk = [3.21, 3.33, 3.91]\n",
    "\n",
    "siswa = list(zip(nim, nama, ipk))\n",
    "print(siswa)"
   ]
  },
  {
   "cell_type": "code",
   "execution_count": 18,
   "id": "1d9987f7",
   "metadata": {},
   "outputs": [
    {
     "name": "stdout",
     "output_type": "stream",
     "text": [
      "('001', '002', '003')\n",
      "('al', 'ju', 'ni')\n",
      "(3.21, 3.33, 3.91)\n"
     ]
    }
   ],
   "source": [
    "#pythonic 23\n",
    "#Mengenal Fungsi Unzip untuk Memecah Sekumpulan Nilai pada List ke Beberapa Variabel\n",
    "\n",
    "nim , nama, ipk = zip(*siswa)\n",
    "\n",
    "print(nim)\n",
    "print(nama)\n",
    "print(ipk)"
   ]
  },
  {
   "cell_type": "code",
   "execution_count": null,
   "id": "2c38c36d",
   "metadata": {},
   "outputs": [],
   "source": [
    "#pythonix 24\n",
    "#Mengenal Method Count pada List untuk Menghitung Jumlah Kemunculan Suatu Nilai"
   ]
  }
 ],
 "metadata": {
  "kernelspec": {
   "display_name": "Python 3",
   "language": "python",
   "name": "python3"
  },
  "language_info": {
   "codemirror_mode": {
    "name": "ipython",
    "version": 3
   },
   "file_extension": ".py",
   "mimetype": "text/x-python",
   "name": "python",
   "nbconvert_exporter": "python",
   "pygments_lexer": "ipython3",
   "version": "3.8.8"
  }
 },
 "nbformat": 4,
 "nbformat_minor": 5
}
