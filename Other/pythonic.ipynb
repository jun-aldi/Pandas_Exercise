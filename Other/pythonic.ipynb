{
 "cells": [
  {
   "cell_type": "code",
   "execution_count": 2,
   "id": "24bb58a7",
   "metadata": {},
   "outputs": [
    {
     "name": "stdout",
     "output_type": "stream",
     "text": [
      "d=(10, 20, 30)\n"
     ]
    }
   ],
   "source": [
    "#pythonic 1\n",
    "#packing\n",
    "a, b, c = 10, 20, 30\n",
    "d = a, b, c\n",
    "print(f'd={d}')\n",
    "\n",
    "#kalau pengen list tinggal kasih []"
   ]
  },
  {
   "cell_type": "code",
   "execution_count": null,
   "id": "b4a0a9f2",
   "metadata": {},
   "outputs": [],
   "source": [
    "#pythonic 2\n",
    "#pertukaran nilai\n",
    "\n",
    "a, b = 10, 20\n",
    "a, b =b, a"
   ]
  },
  {
   "cell_type": "code",
   "execution_count": 7,
   "id": "8b2546a4",
   "metadata": {},
   "outputs": [
    {
     "name": "stdout",
     "output_type": "stream",
     "text": [
      "True\n"
     ]
    }
   ],
   "source": [
    "#pythonic 3\n",
    "#chained comparison\n",
    "\n",
    "a = 25\n",
    "#print((a >= 20) and (a <= 30))\n",
    "\n",
    "print(20 <=a<=30)"
   ]
  },
  {
   "cell_type": "code",
   "execution_count": 13,
   "id": "7e5b9f36",
   "metadata": {},
   "outputs": [
    {
     "name": "stdout",
     "output_type": "stream",
     "text": [
      "listku=[10, 20, 30]\n",
      "a=10, b=20, c=30\n"
     ]
    }
   ],
   "source": [
    "#pythonic 3\n",
    "#unpacking\n",
    "listku = [10,20,30]\n",
    "\n",
    "#variabel untuk menampung sebuah list\n",
    "\n",
    "a, b, c = listku\n",
    "\n",
    "print(f'listku={listku}')\n",
    "print(f'a={a}, b={b}, c={c}')\n"
   ]
  },
  {
   "cell_type": "code",
   "execution_count": 11,
   "id": "c7ce54c2",
   "metadata": {},
   "outputs": [
    {
     "name": "stdout",
     "output_type": "stream",
     "text": [
      "10\n",
      "20\n",
      "30\n"
     ]
    }
   ],
   "source": [
    "#pythonic 4\n",
    "#for loop\n",
    "\n",
    "listku = [10, 20, 30]\n",
    "for item in listku:\n",
    "    print(item)"
   ]
  },
  {
   "cell_type": "code",
   "execution_count": 17,
   "id": "b1d3d8dd",
   "metadata": {},
   "outputs": [
    {
     "name": "stdout",
     "output_type": "stream",
     "text": [
      "001--al\n",
      "002--ju\n",
      "003--ni\n"
     ]
    }
   ],
   "source": [
    "#pythonic 5\n",
    "#enumarate\n",
    "\n",
    "nim = ['001', '002', '003']\n",
    "nama = ['al', 'ju', 'ni']\n",
    "\n",
    "#for i in range(len(nim)):\n",
    "#   print(f'{nim[i]}--{nama[i]}')\n",
    "\n"
   ]
  },
  {
   "cell_type": "code",
   "execution_count": null,
   "id": "87b6d2e4",
   "metadata": {},
   "outputs": [],
   "source": []
  }
 ],
 "metadata": {
  "kernelspec": {
   "display_name": "Python 3",
   "language": "python",
   "name": "python3"
  },
  "language_info": {
   "codemirror_mode": {
    "name": "ipython",
    "version": 3
   },
   "file_extension": ".py",
   "mimetype": "text/x-python",
   "name": "python",
   "nbconvert_exporter": "python",
   "pygments_lexer": "ipython3",
   "version": "3.8.8"
  }
 },
 "nbformat": 4,
 "nbformat_minor": 5
}
